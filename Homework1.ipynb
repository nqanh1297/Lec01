{
 "cells": [
  {
   "cell_type": "code",
   "execution_count": 44,
   "id": "49c53bd1-ecce-49d0-b57d-59da1deeb381",
   "metadata": {},
   "outputs": [
    {
     "name": "stdin",
     "output_type": "stream",
     "text": [
      " 12\n"
     ]
    },
    {
     "name": "stdout",
     "output_type": "stream",
     "text": [
      "24\n"
     ]
    }
   ],
   "source": [
    "n = int(input())\n",
    "print( n*2)"
   ]
  },
  {
   "cell_type": "code",
   "execution_count": 58,
   "id": "2766416e-a4ef-4e15-a45f-bac4978330cf",
   "metadata": {},
   "outputs": [
    {
     "name": "stdin",
     "output_type": "stream",
     "text": [
      " 6 13\n"
     ]
    },
    {
     "name": "stdout",
     "output_type": "stream",
     "text": [
      "49.74\n"
     ]
    }
   ],
   "source": [
    "line = input ()\n",
    "a,b = map( float , line.split())\n",
    "s = ((a*b)- (3.14*((a/2)**2)) )\n",
    "print (f'{s:.2f}')"
   ]
  },
  {
   "cell_type": "code",
   "execution_count": 70,
   "id": "20e9ebef-bb97-4c7c-a225-d715c3db122a",
   "metadata": {},
   "outputs": [
    {
     "name": "stdin",
     "output_type": "stream",
     "text": [
      " B\n"
     ]
    },
    {
     "name": "stdout",
     "output_type": "stream",
     "text": [
      "b\n"
     ]
    }
   ],
   "source": [
    "s = input()\n",
    "if s.isupper () : # ktra xem co phai là chu in hoa k\n",
    "    print (s.lower ()) # in ra chu thuong\n",
    "else :\n",
    "    print(s.upper())\n",
    "        \n"
   ]
  },
  {
   "cell_type": "code",
   "execution_count": 77,
   "id": "c6880f85-18ae-45f0-91a5-427b55f14e1a",
   "metadata": {},
   "outputs": [
    {
     "name": "stdin",
     "output_type": "stream",
     "text": [
      " 123\n"
     ]
    },
    {
     "name": "stdout",
     "output_type": "stream",
     "text": [
      " k la ki tu alphabet\n"
     ]
    }
   ],
   "source": [
    "s = input()\n",
    "if ( s.isalpha() ): \n",
    "    print ( \" la ki tu alphabet \" ) \n",
    "else : \n",
    "    print ( \" k la ki tu alphabet\" ) "
   ]
  },
  {
   "cell_type": "code",
   "execution_count": 80,
   "id": "83159f02-885d-4933-9807-ae9affb03a8a",
   "metadata": {},
   "outputs": [
    {
     "name": "stdin",
     "output_type": "stream",
     "text": [
      " 12 \n",
      " 9\n",
      " 7\n"
     ]
    },
    {
     "name": "stdout",
     "output_type": "stream",
     "text": [
      "31.3\n"
     ]
    }
   ],
   "source": [
    "import math\n",
    "a = int(input())\n",
    "b = int (input())\n",
    "c = int(input())\n",
    "p= (a+b+c)/2\n",
    "if ( a+b>c and a+c>b and b+c>a) : \n",
    "    s=math.sqrt(p*(p-a)*(p-b)*(p-c))\n",
    "    print ( round(s,1)) \n",
    "else :\n",
    "    print ( \" Khong phai la 3 canh cua tam giac \" ) \n",
    "    \n"
   ]
  },
  {
   "cell_type": "code",
   "execution_count": 83,
   "id": "7bfdf66d-cedd-4073-9913-5c4cac58227d",
   "metadata": {},
   "outputs": [
    {
     "name": "stdin",
     "output_type": "stream",
     "text": [
      " queanhhhhhh\n"
     ]
    },
    {
     "name": "stdout",
     "output_type": "stream",
     "text": [
      "n\n",
      "h\n"
     ]
    }
   ],
   "source": [
    "s=input()\n",
    "print ( s[4])\n",
    "print ( s[8])"
   ]
  },
  {
   "cell_type": "code",
   "execution_count": 94,
   "id": "1ab0377b-fa3f-4d53-9581-9e834ae0b378",
   "metadata": {},
   "outputs": [
    {
     "name": "stdin",
     "output_type": "stream",
     "text": [
      "Ten chu ho: Nguyen Xuan Long\n",
      "Chi so thang truoc: 2097\n",
      "Chi so thang sau: 2278\n"
     ]
    },
    {
     "name": "stdout",
     "output_type": "stream",
     "text": [
      "Ho va ten: Nguyen Xuan Long\n",
      "Tien phai tra la:  408218.4\n"
     ]
    }
   ],
   "source": [
    "s= input(\"Ten chu ho:\")\n",
    "a= int( input(\"Chi so thang truoc:\"))\n",
    "b= int( input(\"Chi so thang sau:\"))\n",
    "c=b-a\n",
    "if c<=50  :\n",
    "    gia=c*1984\n",
    "if 50<c<=100 :\n",
    "    gia = 50*1984+(c-50)*2050\n",
    "if 100<c<=200 :\n",
    "    gia = 50*1984+100*2050+(c-150)*2380\n",
    "if 200<c<=300 :\n",
    "    gia = 50*1984+100*2050 + 100*2380 +(c-250)*2998\n",
    "if 300<c<=400 :\n",
    "    gia = 50*1984+100*2050 + 100*2380 + 100*2998 + (c-350)*3350\n",
    "if 400<c :\n",
    "    gia = 50*1984+100*2050 + 100*2380 + 100*2998 + 100*3350+ (c-450)*3460\n",
    "gia_sau_thue= gia*1.08\n",
    "print ( \"Ho va ten:\" , s)\n",
    "print ( \"Tien phai tra la: \" ,gia_sau_thue ) \n"
   ]
  },
  {
   "cell_type": "code",
   "execution_count": 106,
   "id": "9e60c602-5005-430e-8a9c-4a22f37ec76c",
   "metadata": {},
   "outputs": [
    {
     "name": "stdin",
     "output_type": "stream",
     "text": [
      " 3\n"
     ]
    },
    {
     "name": "stdout",
     "output_type": "stream",
     "text": [
      " a la so le \n"
     ]
    }
   ],
   "source": [
    "a=int(input())\n",
    "if (a%2==0) :\n",
    "      print ( \" a la so chan \" ) \n",
    "else:\n",
    "     print ( \" a la so le \" )\n"
   ]
  },
  {
   "cell_type": "code",
   "execution_count": 108,
   "id": "082252cc-a929-4989-8685-7bd5a466f0c8",
   "metadata": {},
   "outputs": [
    {
     "name": "stdin",
     "output_type": "stream",
     "text": [
      " 2\n"
     ]
    },
    {
     "name": "stdout",
     "output_type": "stream",
     "text": [
      "False\n"
     ]
    }
   ],
   "source": [
    "a = int (input())\n",
    "if ( a%3==0 and a%5==0 ) : \n",
    "    print ( \" True \")\n",
    "else : \n",
    "    print (\"False\")"
   ]
  },
  {
   "cell_type": "code",
   "execution_count": 110,
   "id": "fc4406a3-75cf-44c1-bf7e-b4fa84cd8593",
   "metadata": {},
   "outputs": [
    {
     "name": "stdin",
     "output_type": "stream",
     "text": [
      " 20\n"
     ]
    },
    {
     "name": "stdout",
     "output_type": "stream",
     "text": [
      "False\n"
     ]
    }
   ],
   "source": [
    "a=int(input())\n",
    "if ( a%10==5) : \n",
    "    print ( \"True\")\n",
    "else : \n",
    "    print (\"False\")"
   ]
  },
  {
   "cell_type": "code",
   "execution_count": 112,
   "id": "0899814e-7635-42f9-a19f-ede8e13df047",
   "metadata": {},
   "outputs": [
    {
     "name": "stdin",
     "output_type": "stream",
     "text": [
      " 2008\n"
     ]
    },
    {
     "name": "stdout",
     "output_type": "stream",
     "text": [
      " Khong du tuoi \n"
     ]
    }
   ],
   "source": [
    "nam_sinh = int(input())\n",
    "nam_htai = 2025\n",
    "du_tuoi = nam_htai - nam_sinh \n",
    "if ( du_tuoi >=18 ):\n",
    "    print ( \" Du tuoi \")\n",
    "else : \n",
    "    print ( \" Khong du tuoi \") "
   ]
  },
  {
   "cell_type": "code",
   "execution_count": 115,
   "id": "55b3de7d-6980-4d64-aa6b-71bd17965ed0",
   "metadata": {},
   "outputs": [
    {
     "name": "stdin",
     "output_type": "stream",
     "text": [
      " 1233\n",
      " 1231\n"
     ]
    },
    {
     "name": "stdout",
     "output_type": "stream",
     "text": [
      "1233\n"
     ]
    }
   ],
   "source": [
    "a=int(input())\n",
    "b= int(input())\n",
    "if ( a>b):\n",
    "    print (a)\n",
    "if(a<b):\n",
    "    print(b)\n",
    "if(a==b):\n",
    "    print ( \" 2 so bang nhau\")"
   ]
  },
  {
   "cell_type": "code",
   "execution_count": 118,
   "id": "a555b146-c894-4a25-bb16-54a7dd739881",
   "metadata": {},
   "outputs": [
    {
     "name": "stdin",
     "output_type": "stream",
     "text": [
      " 8.8\n"
     ]
    },
    {
     "name": "stdout",
     "output_type": "stream",
     "text": [
      "Gioi\n"
     ]
    }
   ],
   "source": [
    "a=float(input())\n",
    "if(a>=8) :\n",
    "    print(\"Gioi\")\n",
    "if ( 6.5<=a<8):\n",
    "    print ( \" Kha\")\n",
    "if(5<=a<6.5):\n",
    "    print(\"Trung Binh\")\n",
    "if (a<5):\n",
    "    print(\"Yeu\")"
   ]
  },
  {
   "cell_type": "code",
   "execution_count": 121,
   "id": "5144da6d-fb58-4f78-b0c8-896d8750886d",
   "metadata": {},
   "outputs": [
    {
     "name": "stdin",
     "output_type": "stream",
     "text": [
      " 2025\n"
     ]
    },
    {
     "name": "stdout",
     "output_type": "stream",
     "text": [
      " K la nam nhuan\n"
     ]
    }
   ],
   "source": [
    "a=int(input())\n",
    "if (a%400==0 ) or ( a%4==0 and a%100!=0) :\n",
    "    print (\"La nam nhuan \")\n",
    "else : \n",
    "    print (\" K la nam nhuan\")"
   ]
  },
  {
   "cell_type": "code",
   "execution_count": 124,
   "id": "8e8e349b-a969-44d6-97ab-7d85d2f63cf3",
   "metadata": {},
   "outputs": [
    {
     "name": "stdin",
     "output_type": "stream",
     "text": [
      " 3\n"
     ]
    },
    {
     "name": "stdout",
     "output_type": "stream",
     "text": [
      "Học lại\n"
     ]
    }
   ],
   "source": [
    "diemthi=float(input())\n",
    "if ( diemthi>=4) : \n",
    "    print (\"Qua môn\")\n",
    "else : \n",
    "    print(\"Học lại\")"
   ]
  },
  {
   "cell_type": "code",
   "execution_count": 128,
   "id": "e0ae77aa-3920-4e3c-98a9-95ef14f75b5b",
   "metadata": {},
   "outputs": [
    {
     "name": "stdin",
     "output_type": "stream",
     "text": [
      " 2008\n"
     ]
    },
    {
     "name": "stdout",
     "output_type": "stream",
     "text": [
      "17  K du tuoi \n"
     ]
    }
   ],
   "source": [
    "namsinh=int(input())\n",
    "tuoi=2025-namsinh\n",
    "if ( tuoi >=18 ):\n",
    "    print (tuoi,\"Du tuoi\")\n",
    "else : \n",
    "    print(tuoi,\" K du tuoi \")"
   ]
  },
  {
   "cell_type": "code",
   "execution_count": 140,
   "id": "979f9b45-745e-447f-90c9-0b5ddf748150",
   "metadata": {},
   "outputs": [
    {
     "name": "stdin",
     "output_type": "stream",
     "text": [
      " 2\n"
     ]
    },
    {
     "name": "stdout",
     "output_type": "stream",
     "text": [
      "La chu so\n"
     ]
    }
   ],
   "source": [
    "s=input()\n",
    "if s.isalpha():\n",
    "    print(\"La chu cai\")\n",
    "if s.isdigit():\n",
    "    print(\"La chu so\")\n",
    "\n",
    " "
   ]
  },
  {
   "cell_type": "code",
   "execution_count": 154,
   "id": "f44be7ea-535c-491b-9223-07d65f17a750",
   "metadata": {},
   "outputs": [
    {
     "name": "stdin",
     "output_type": "stream",
     "text": [
      " 9\n"
     ]
    },
    {
     "name": "stdout",
     "output_type": "stream",
     "text": [
      "Chin\n"
     ]
    }
   ],
   "source": [
    "a=int(input())\n",
    "match a : \n",
    "   case 0 :\n",
    "       print ( \" Khong\")\n",
    "   case 1 :\n",
    "       print (\"Mot\")\n",
    "   case 2:\n",
    "        print (\"Hai\")\n",
    "   case 3:\n",
    "        print(\"Ba\")\n",
    "   case 4 :\n",
    "        print(\"Bon\")\n",
    "   case 5:\n",
    "         print(\"Nam\")\n",
    "   case 6:\n",
    "        print(\"Sau\")\n",
    "   case 7 : \n",
    "         print(\"Bay\")\n",
    "   case 8:\n",
    "         print(\"Tam\")\n",
    "   case 9 :\n",
    "         print(\"Chin\")\n",
    "   case _ :\n",
    "         print (\"Khong phai la so\")"
   ]
  },
  {
   "cell_type": "code",
   "execution_count": null,
   "id": "fbfcf439-5fea-4e99-89ed-a211ea42edaa",
   "metadata": {},
   "outputs": [],
   "source": []
  }
 ],
 "metadata": {
  "kernelspec": {
   "display_name": "Python 3 (ipykernel)",
   "language": "python",
   "name": "python3"
  },
  "language_info": {
   "codemirror_mode": {
    "name": "ipython",
    "version": 3
   },
   "file_extension": ".py",
   "mimetype": "text/x-python",
   "name": "python",
   "nbconvert_exporter": "python",
   "pygments_lexer": "ipython3",
   "version": "3.13.5"
  }
 },
 "nbformat": 4,
 "nbformat_minor": 5
}
